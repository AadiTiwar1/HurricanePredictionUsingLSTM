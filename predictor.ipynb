{
 "cells": [
  {
   "cell_type": "code",
   "execution_count": 10,
   "id": "2a50570c",
   "metadata": {},
   "outputs": [],
   "source": [
    "#get all of the packages needed\n",
    "import numpy as np\n",
    "import pandas as pd\n",
    "import tensorflow as tf\n",
    "from tensorflow.keras.layers import Dense, LSTM\n",
    "from tensorflow.keras.models import Sequential\n",
    "from sklearn.preprocessing import MinMaxScaler\n",
    "pd.options.mode.chained_assignment = None\n",
    "tf.random.set_seed(0)"
   ]
  },
  {
   "cell_type": "code",
   "execution_count": 32,
   "id": "f820bb7e",
   "metadata": {
    "scrolled": false
   },
   "outputs": [
    {
     "data": {
      "text/html": [
       "<div>\n",
       "<style scoped>\n",
       "    .dataframe tbody tr th:only-of-type {\n",
       "        vertical-align: middle;\n",
       "    }\n",
       "\n",
       "    .dataframe tbody tr th {\n",
       "        vertical-align: top;\n",
       "    }\n",
       "\n",
       "    .dataframe thead th {\n",
       "        text-align: right;\n",
       "    }\n",
       "</style>\n",
       "<table border=\"1\" class=\"dataframe\">\n",
       "  <thead>\n",
       "    <tr style=\"text-align: right;\">\n",
       "      <th></th>\n",
       "      <th>latitude</th>\n",
       "      <th>longitude</th>\n",
       "      <th>max_sustained_wind</th>\n",
       "      <th>central_pressure</th>\n",
       "    </tr>\n",
       "    <tr>\n",
       "      <th>date</th>\n",
       "      <th></th>\n",
       "      <th></th>\n",
       "      <th></th>\n",
       "      <th></th>\n",
       "    </tr>\n",
       "  </thead>\n",
       "  <tbody>\n",
       "    <tr>\n",
       "      <th>2013-09-11</th>\n",
       "      <td>15.1</td>\n",
       "      <td>-28.3</td>\n",
       "      <td>55</td>\n",
       "      <td>998.0</td>\n",
       "    </tr>\n",
       "    <tr>\n",
       "      <th>2013-09-11</th>\n",
       "      <td>15.6</td>\n",
       "      <td>-28.6</td>\n",
       "      <td>60</td>\n",
       "      <td>994.0</td>\n",
       "    </tr>\n",
       "    <tr>\n",
       "      <th>2013-09-11</th>\n",
       "      <td>16.3</td>\n",
       "      <td>-28.9</td>\n",
       "      <td>70</td>\n",
       "      <td>987.0</td>\n",
       "    </tr>\n",
       "    <tr>\n",
       "      <th>2013-09-11</th>\n",
       "      <td>17.4</td>\n",
       "      <td>-28.9</td>\n",
       "      <td>80</td>\n",
       "      <td>979.0</td>\n",
       "    </tr>\n",
       "    <tr>\n",
       "      <th>2013-09-12</th>\n",
       "      <td>18.6</td>\n",
       "      <td>-28.9</td>\n",
       "      <td>80</td>\n",
       "      <td>979.0</td>\n",
       "    </tr>\n",
       "    <tr>\n",
       "      <th>...</th>\n",
       "      <td>...</td>\n",
       "      <td>...</td>\n",
       "      <td>...</td>\n",
       "      <td>...</td>\n",
       "    </tr>\n",
       "    <tr>\n",
       "      <th>2015-11-12</th>\n",
       "      <td>41.3</td>\n",
       "      <td>-50.4</td>\n",
       "      <td>55</td>\n",
       "      <td>981.0</td>\n",
       "    </tr>\n",
       "    <tr>\n",
       "      <th>2015-11-12</th>\n",
       "      <td>41.9</td>\n",
       "      <td>-49.9</td>\n",
       "      <td>55</td>\n",
       "      <td>983.0</td>\n",
       "    </tr>\n",
       "    <tr>\n",
       "      <th>2015-11-13</th>\n",
       "      <td>41.5</td>\n",
       "      <td>-49.2</td>\n",
       "      <td>50</td>\n",
       "      <td>985.0</td>\n",
       "    </tr>\n",
       "    <tr>\n",
       "      <th>2015-11-13</th>\n",
       "      <td>40.8</td>\n",
       "      <td>-47.5</td>\n",
       "      <td>45</td>\n",
       "      <td>985.0</td>\n",
       "    </tr>\n",
       "    <tr>\n",
       "      <th>2015-11-13</th>\n",
       "      <td>40.7</td>\n",
       "      <td>-45.4</td>\n",
       "      <td>45</td>\n",
       "      <td>987.0</td>\n",
       "    </tr>\n",
       "  </tbody>\n",
       "</table>\n",
       "<p>805 rows × 4 columns</p>\n",
       "</div>"
      ],
      "text/plain": [
       "            latitude  longitude  max_sustained_wind  central_pressure\n",
       "date                                                                 \n",
       "2013-09-11      15.1      -28.3                  55             998.0\n",
       "2013-09-11      15.6      -28.6                  60             994.0\n",
       "2013-09-11      16.3      -28.9                  70             987.0\n",
       "2013-09-11      17.4      -28.9                  80             979.0\n",
       "2013-09-12      18.6      -28.9                  80             979.0\n",
       "...              ...        ...                 ...               ...\n",
       "2015-11-12      41.3      -50.4                  55             981.0\n",
       "2015-11-12      41.9      -49.9                  55             983.0\n",
       "2015-11-13      41.5      -49.2                  50             985.0\n",
       "2015-11-13      40.8      -47.5                  45             985.0\n",
       "2015-11-13      40.7      -45.4                  45             987.0\n",
       "\n",
       "[805 rows x 4 columns]"
      ]
     },
     "execution_count": 32,
     "metadata": {},
     "output_type": "execute_result"
    }
   ],
   "source": [
    "#download the data and do a little cleanup\n",
    "def convert_lat_long(value):\n",
    "    if value[-1] == 'S' or value[-1] == 'W':\n",
    "        return -1 * float(value[:-1])\n",
    "    else:\n",
    "        return float(value[:-1])\n",
    "\n",
    "df = pd.read_csv('atlantic (2).csv')\n",
    "\n",
    "df = df.loc[48300:].copy()\n",
    "\n",
    "df.drop(['status_of_system', 'Unnamed: 6', 'Unnamed: 7', 'Unnamed: 8','Unnamed: 9', \n",
    "        'Unnamed: 10', 'Unnamed: 11','Unnamed: 12', 'Unnamed: 13', 'Unnamed: 14', \n",
    "        'Unnamed: 15', 'Unnamed: 16', 'Unnamed: 17', 'Unnamed: 18'], inplace=True, axis=1)\n",
    "df['date'] = pd.to_datetime(df['date'], format = \"%Y%m%d\").dt.strftime('%Y-%m-%d')\n",
    "df['date'] = df['date'].apply(lambda x: float(x.split()[0].replace('-', '')))\n",
    "\n",
    "df['latitude'] = df['latitude'].map(lambda x: convert_lat_long(x))\n",
    "df['longitude'] = df['longitude'].map(lambda x: convert_lat_long(x))\n",
    "\n",
    "df['central_pressure'] = df['central_pressure'].fillna(method='ffill', limit=1000)\n",
    "df['central_pressure'] = df['central_pressure'].fillna(method='bfill', limit=1000)\n",
    "df['max_sustained_wind'] = df['max_sustained_wind'].replace(-99, np.nan)\n",
    "\n",
    "df['date'] = pd.to_datetime(df['date'], format = \"%Y%m%d\").dt.strftime('%Y-%m-%d') \n",
    "df = df.set_index('date')\n",
    "\n",
    "y = df['max_sustained_wind'].fillna(method='ffill')\n",
    "y = y.values.reshape(-1, 1)\n",
    "df"
   ]
  },
  {
   "cell_type": "code",
   "execution_count": 33,
   "id": "4bc30dcb",
   "metadata": {},
   "outputs": [],
   "source": [
    "# scale the data\n",
    "scaler = MinMaxScaler(feature_range=(0, 1))\n",
    "scaler = scaler.fit(y)\n",
    "y = scaler.transform(y)"
   ]
  },
  {
   "cell_type": "code",
   "execution_count": 39,
   "id": "af3874b9",
   "metadata": {},
   "outputs": [],
   "source": [
    "# generate the input and output sequences\n",
    "n_lookback = 250  # length of input sequences (lookback period)\n",
    "n_forecast = 70  # length of output sequences (forecast period)"
   ]
  },
  {
   "cell_type": "code",
   "execution_count": 40,
   "id": "1fd316cb",
   "metadata": {},
   "outputs": [],
   "source": [
    "X = []\n",
    "Y = []\n",
    "\n",
    "for i in range(n_lookback, len(y) - n_forecast + 1):\n",
    "    X.append(y[i - n_lookback: i])\n",
    "    Y.append(y[i: i + n_forecast])\n",
    "\n",
    "X = np.array(X)\n",
    "Y = np.array(Y)"
   ]
  },
  {
   "cell_type": "code",
   "execution_count": 41,
   "id": "6d195b94",
   "metadata": {},
   "outputs": [
    {
     "data": {
      "text/plain": [
       "<keras.callbacks.History at 0x21d4cf0d3d0>"
      ]
     },
     "execution_count": 41,
     "metadata": {},
     "output_type": "execute_result"
    }
   ],
   "source": [
    "# fit the model\n",
    "model = Sequential()\n",
    "model.add(LSTM(units=5, return_sequences=True, input_shape=(n_lookback, 1)))\n",
    "model.add(LSTM(units=5))\n",
    "model.add(Dense(n_forecast))\n",
    "model.compile(loss='mean_squared_error', optimizer='adam')\n",
    "model.fit(X, Y, epochs=100, batch_size=16, verbose=0)"
   ]
  },
  {
   "cell_type": "code",
   "execution_count": 42,
   "id": "e5a70cf2",
   "metadata": {},
   "outputs": [
    {
     "name": "stdout",
     "output_type": "stream",
     "text": [
      "WARNING:tensorflow:6 out of the last 6 calls to <function Model.make_predict_function.<locals>.predict_function at 0x0000021D499DDA60> triggered tf.function retracing. Tracing is expensive and the excessive number of tracings could be due to (1) creating @tf.function repeatedly in a loop, (2) passing tensors with different shapes, (3) passing Python objects instead of tensors. For (1), please define your @tf.function outside of the loop. For (2), @tf.function has reduce_retracing=True option that can avoid unnecessary retracing. For (3), please refer to https://www.tensorflow.org/guide/function#controlling_retracing and https://www.tensorflow.org/api_docs/python/tf/function for  more details.\n",
      "1/1 [==============================] - 1s 1s/step\n"
     ]
    }
   ],
   "source": [
    "# generate the forecasts\n",
    "X_ = y[- n_lookback:]  # last available input sequence\n",
    "X_ = X_.reshape(1, n_lookback, 1)\n",
    "\n",
    "Y_ = model.predict(X_).reshape(-1, 1)\n",
    "Y_ = scaler.inverse_transform(Y_)"
   ]
  },
  {
   "cell_type": "code",
   "execution_count": 43,
   "id": "86c644ce",
   "metadata": {},
   "outputs": [
    {
     "name": "stderr",
     "output_type": "stream",
     "text": [
      "C:\\Users\\AadiT\\AppData\\Local\\Temp\\ipykernel_6348\\1192933109.py:12: FutureWarning: The frame.append method is deprecated and will be removed from pandas in a future version. Use pandas.concat instead.\n",
      "  results = df_past.append(df_future).set_index('Date')\n"
     ]
    },
    {
     "data": {
      "text/plain": [
       "<AxesSubplot: title={'center': 'jizzer9000'}, xlabel='Date'>"
      ]
     },
     "execution_count": 43,
     "metadata": {},
     "output_type": "execute_result"
    },
    {
     "data": {
      "image/png": "[encoded data removed]",
      "text/plain": [
       "<Figure size 640x480 with 1 Axes>"
      ]
     },
     "metadata": {},
     "output_type": "display_data"
    }
   ],
   "source": [
    "# organize the results in a data frame\n",
    "df_past = df[['max_sustained_wind']].reset_index()\n",
    "df_past.rename(columns={'date' : 'Date', 'max_sustained_wind': 'Actual'}, inplace=True)\n",
    "df_past['Date'] = pd.to_datetime(df_past['Date'])\n",
    "df_past['Forecast'] = np.nan\n",
    "df_past['Forecast'].iloc[-1] = df_past['Actual'].iloc[-1]\n",
    "df_future = pd.DataFrame(columns=['Date', 'Actual', 'Forecast'])\n",
    "df_future['Date'] = pd.date_range(start=df_past['Date'].iloc[-1] + pd.Timedelta(days=1), periods=n_forecast)\n",
    "df_future['Forecast'] = Y_.flatten()\n",
    "df_future['Actual'] = np.nan\n",
    "\n",
    "results = df_past.append(df_future).set_index('Date')\n",
    "\n",
    "# plot the results\n",
    "results.plot(title='jizzer9000')"
   ]
  },
  {
   "cell_type": "code",
   "execution_count": null,
   "id": "ca0a9c2f",
   "metadata": {},
   "outputs": [],
   "source": []
  }
 ],
 "metadata": {
  "kernelspec": {
   "display_name": "Python 3 (ipykernel)",
   "language": "python",
   "name": "python3"
  },
  "language_info": {
   "codemirror_mode": {
    "name": "ipython",
    "version": 3
   },
   "file_extension": ".py",
   "mimetype": "text/x-python",
   "name": "python",
   "nbconvert_exporter": "python",
   "pygments_lexer": "ipython3",
   "version": "3.9.13"
  }
 },
 "nbformat": 4,
 "nbformat_minor": 5
}
